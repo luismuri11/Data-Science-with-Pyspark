{
 "cells": [
  {
   "cell_type": "markdown",
   "metadata": {},
   "source": [
    "## **Admission Prediction With Pyspark ML**"
   ]
  },
  {
   "cell_type": "markdown",
   "metadata": {},
   "source": [
    "The objective of this project is to predict if a student who sent their application to get admitted in a university graduate program will be accepted or not.\n",
    "\n",
    "We will be using Pyspark for this project."
   ]
  },
  {
   "cell_type": "markdown",
   "metadata": {
    "id": "rZtskxrQyg3e"
   },
   "source": [
    "### **1. Import Libraries & Run a SparkSession**\n"
   ]
  },
  {
   "cell_type": "code",
   "execution_count": 77,
   "metadata": {
    "id": "a9huiQF8yfIK"
   },
   "outputs": [],
   "source": [
    "#install pyspark\n",
    "from pyspark.sql import SparkSession\n",
    "from pyspark.ml.feature import VectorAssembler\n",
    "from pyspark.ml.regression import LinearRegression, LinearRegressionModel\n",
    "from pyspark.ml.evaluation import RegressionEvaluator"
   ]
  },
  {
   "cell_type": "code",
   "execution_count": 2,
   "metadata": {
    "id": "1wZpO2gxy7Pt"
   },
   "outputs": [],
   "source": [
    "#create a sparksession\n",
    "spark = SparkSession.builder.appName('admission-prediction').getOrCreate()"
   ]
  },
  {
   "cell_type": "markdown",
   "metadata": {
    "id": "8t7JFc_My__A"
   },
   "source": [
    "### **2. Load and Explore dataset**"
   ]
  },
  {
   "cell_type": "code",
   "execution_count": 5,
   "metadata": {
    "id": "Evfd9ACizers"
   },
   "outputs": [],
   "source": [
    "#create a spark dataframe\n",
    "df = spark.read.csv('admission_dataset/Admission_Predict_Ver1.1.csv', header=True, inferSchema=True)"
   ]
  },
  {
   "cell_type": "markdown",
   "metadata": {},
   "source": [
    "The dataset consists of:\n",
    "|Field|Description|\n",
    "|----|----|\n",
    "|GRE Score|The score obtained in the GRE test.|\n",
    "|TOEFL Score|The score obtained in the standarized English test.|\n",
    "|University Rating|The score obtained for the university ranking from 0-5.|\n",
    "|SOP|The score obtained for the statement of purpose from 0-5.|\n",
    "|LOI|The score obtained for the letter of reccommendation from 0-5.|\n",
    "|CGPA|Cumulated GPA from 0-10|\n",
    "|Research| If you have done research activities, 0 or 1|\n",
    "|Change of Admit|The chances of get admited from 0-1|"
   ]
  },
  {
   "cell_type": "code",
   "execution_count": 6,
   "metadata": {
    "id": "cG6UhIUuznfJ"
   },
   "outputs": [
    {
     "name": "stdout",
     "output_type": "stream",
     "text": [
      "+---------+---------+-----------+-----------------+---+---+----+--------+---------------+\n",
      "|Serial No|GRE Score|TOEFL Score|University Rating|SOP|LOR|CGPA|Research|Chance of Admit|\n",
      "+---------+---------+-----------+-----------------+---+---+----+--------+---------------+\n",
      "|        1|      337|        118|                4|4.5|4.5|9.65|       1|           0.92|\n",
      "|        2|      324|        107|                4|4.0|4.5|8.87|       1|           0.76|\n",
      "|        3|      316|        104|                3|3.0|3.5| 8.0|       1|           0.72|\n",
      "|        4|      322|        110|                3|3.5|2.5|8.67|       1|            0.8|\n",
      "|        5|      314|        103|                2|2.0|3.0|8.21|       0|           0.65|\n",
      "+---------+---------+-----------+-----------------+---+---+----+--------+---------------+\n",
      "only showing top 5 rows\n",
      "\n"
     ]
    }
   ],
   "source": [
    "#display dataframe\n",
    "df.show(5)"
   ]
  },
  {
   "cell_type": "code",
   "execution_count": 11,
   "metadata": {
    "id": "tgtWocArzqVR"
   },
   "outputs": [
    {
     "name": "stdout",
     "output_type": "stream",
     "text": [
      "The number of rows: 500\n",
      "The number of columns: 9\n"
     ]
    }
   ],
   "source": [
    "#get the no.of rows & columns\n",
    "print(f'The number of rows: {df.count()}')\n",
    "print(f'The number of columns: {len(df.columns)}')"
   ]
  },
  {
   "cell_type": "code",
   "execution_count": 12,
   "metadata": {
    "id": "OWQTe006zt7O"
   },
   "outputs": [
    {
     "name": "stdout",
     "output_type": "stream",
     "text": [
      "root\n",
      " |-- Serial No: integer (nullable = true)\n",
      " |-- GRE Score: integer (nullable = true)\n",
      " |-- TOEFL Score: integer (nullable = true)\n",
      " |-- University Rating: integer (nullable = true)\n",
      " |-- SOP: double (nullable = true)\n",
      " |-- LOR: double (nullable = true)\n",
      " |-- CGPA: double (nullable = true)\n",
      " |-- Research: integer (nullable = true)\n",
      " |-- Chance of Admit: double (nullable = true)\n",
      "\n"
     ]
    }
   ],
   "source": [
    "#print schema\n",
    "df.printSchema()"
   ]
  },
  {
   "cell_type": "code",
   "execution_count": 19,
   "metadata": {
    "id": "locEx8HDz264"
   },
   "outputs": [
    {
     "name": "stdout",
     "output_type": "stream",
     "text": [
      "+-------+-----------------+------------------+-----------------+-----------------+------------------+------------------+------------------+------------------+-------------------+\n",
      "|summary|        Serial No|         GRE Score|      TOEFL Score|University Rating|               SOP|               LOR|              CGPA|          Research|    Chance of Admit|\n",
      "+-------+-----------------+------------------+-----------------+-----------------+------------------+------------------+------------------+------------------+-------------------+\n",
      "|  count|              500|               500|              500|              500|               500|               500|               500|               500|                500|\n",
      "|   mean|            250.5|           316.472|          107.192|            3.114|             3.374|             3.484| 8.576440000000003|              0.56| 0.7217399999999996|\n",
      "| stddev|144.4818327679989|11.295148372354712|6.081867659564538|1.143511800759815|0.9910036207566072|0.9254495738978191|0.6048128003332054|0.4968840786090358|0.14114040395030228|\n",
      "|    min|                1|               290|               92|                1|               1.0|               1.0|               6.8|                 0|               0.34|\n",
      "|    max|              500|               340|              120|                5|               5.0|               5.0|              9.92|                 1|               0.97|\n",
      "+-------+-----------------+------------------+-----------------+-----------------+------------------+------------------+------------------+------------------+-------------------+\n",
      "\n"
     ]
    }
   ],
   "source": [
    "#get the summary statistics\n",
    "df.describe().show()"
   ]
  },
  {
   "cell_type": "markdown",
   "metadata": {
    "id": "6uDdoEKsz6h6"
   },
   "source": [
    "### **3. Data Cleaning**"
   ]
  },
  {
   "cell_type": "code",
   "execution_count": 20,
   "metadata": {
    "id": "o6gJAFo30G9s"
   },
   "outputs": [],
   "source": [
    "#drop the unnecessary column\n",
    "df = df.drop('Serial No')"
   ]
  },
  {
   "cell_type": "code",
   "execution_count": 21,
   "metadata": {
    "id": "_lOPoDVk0OFH"
   },
   "outputs": [
    {
     "name": "stdout",
     "output_type": "stream",
     "text": [
      "+---------+-----------+-----------------+---+---+----+--------+---------------+\n",
      "|GRE Score|TOEFL Score|University Rating|SOP|LOR|CGPA|Research|Chance of Admit|\n",
      "+---------+-----------+-----------------+---+---+----+--------+---------------+\n",
      "|      337|        118|                4|4.5|4.5|9.65|       1|           0.92|\n",
      "|      324|        107|                4|4.0|4.5|8.87|       1|           0.76|\n",
      "|      316|        104|                3|3.0|3.5| 8.0|       1|           0.72|\n",
      "|      322|        110|                3|3.5|2.5|8.67|       1|            0.8|\n",
      "|      314|        103|                2|2.0|3.0|8.21|       0|           0.65|\n",
      "+---------+-----------+-----------------+---+---+----+--------+---------------+\n",
      "only showing top 5 rows\n",
      "\n"
     ]
    }
   ],
   "source": [
    "#display the dataframe\n",
    "df.show(5)"
   ]
  },
  {
   "cell_type": "code",
   "execution_count": 24,
   "metadata": {
    "id": "Au73oUZJ0Qv7"
   },
   "outputs": [
    {
     "name": "stdout",
     "output_type": "stream",
     "text": [
      "GRE Score: 0\n",
      "TOEFL Score: 0\n",
      "University Rating: 0\n",
      "SOP: 0\n",
      "LOR: 0\n",
      "CGPA: 0\n",
      "Research: 0\n",
      "Chance of Admit: 0\n"
     ]
    }
   ],
   "source": [
    "#check for null values\n",
    "for i in df.columns:\n",
    "    print(i+\":\", df[df[i].isNull()].count())"
   ]
  },
  {
   "cell_type": "markdown",
   "metadata": {
    "id": "prkDI9Dc0SoH"
   },
   "source": [
    "### **4. Correlation Analysis & Feature Selection**"
   ]
  },
  {
   "cell_type": "code",
   "execution_count": 31,
   "metadata": {
    "id": "eFhxSRRj0Ypa"
   },
   "outputs": [
    {
     "name": "stdout",
     "output_type": "stream",
     "text": [
      "The correlation between GRE Score and the Change to get admitted is: 0.8103506354632598\n",
      "The correlation between TOEFL Score and the Change to get admitted is: 0.7922276143050823\n",
      "The correlation between University Rating and the Change to get admitted is: 0.6901323687886892\n",
      "The correlation between SOP and the Change to get admitted is: 0.6841365241316723\n",
      "The correlation between LOR and the Change to get admitted is: 0.6453645135280112\n",
      "The correlation between CGPA and the Change to get admitted is: 0.882412574904574\n",
      "The correlation between Research and the Change to get admitted is: 0.5458710294711379\n",
      "The correlation between Chance of Admit and the Change to get admitted is: 1.0\n"
     ]
    }
   ],
   "source": [
    "# correlation analysis\n",
    "for col in df.columns:\n",
    "    print('The correlation between {} and the Change to get admitted is: {}'.format(col, df.stat.corr('Chance of Admit', col)))"
   ]
  },
  {
   "cell_type": "code",
   "execution_count": 34,
   "metadata": {
    "id": "UXNOknvo0dV2"
   },
   "outputs": [],
   "source": [
    "# feature selection\n",
    "list_features =  ['GRE Score','TOEFL Score','CGPA']\n",
    "assembler = VectorAssembler(inputCols=list_features, outputCol='features')\n",
    "output_data = assembler.transform(df)"
   ]
  },
  {
   "cell_type": "code",
   "execution_count": 35,
   "metadata": {
    "id": "JOzlkPaz0ibL"
   },
   "outputs": [
    {
     "name": "stdout",
     "output_type": "stream",
     "text": [
      "+---------+-----------+-----------------+---+---+----+--------+---------------+------------------+\n",
      "|GRE Score|TOEFL Score|University Rating|SOP|LOR|CGPA|Research|Chance of Admit|          features|\n",
      "+---------+-----------+-----------------+---+---+----+--------+---------------+------------------+\n",
      "|      337|        118|                4|4.5|4.5|9.65|       1|           0.92|[337.0,118.0,9.65]|\n",
      "|      324|        107|                4|4.0|4.5|8.87|       1|           0.76|[324.0,107.0,8.87]|\n",
      "|      316|        104|                3|3.0|3.5| 8.0|       1|           0.72| [316.0,104.0,8.0]|\n",
      "|      322|        110|                3|3.5|2.5|8.67|       1|            0.8|[322.0,110.0,8.67]|\n",
      "|      314|        103|                2|2.0|3.0|8.21|       0|           0.65|[314.0,103.0,8.21]|\n",
      "+---------+-----------+-----------------+---+---+----+--------+---------------+------------------+\n",
      "only showing top 5 rows\n",
      "\n"
     ]
    }
   ],
   "source": [
    "#display dataframe\n",
    "output_data.show(5)"
   ]
  },
  {
   "cell_type": "markdown",
   "metadata": {
    "id": "l6FucLAC0r5I"
   },
   "source": [
    "### 5. Build the Linear Regression Model"
   ]
  },
  {
   "cell_type": "code",
   "execution_count": 37,
   "metadata": {
    "id": "RMYN_8jJ0wDR"
   },
   "outputs": [],
   "source": [
    "#import Linearregression and create final data\n",
    "final_data  = output_data.select('features', 'Chance of Admit')"
   ]
  },
  {
   "cell_type": "code",
   "execution_count": 38,
   "metadata": {
    "id": "MNSEfLCp09oO"
   },
   "outputs": [
    {
     "name": "stdout",
     "output_type": "stream",
     "text": [
      "root\n",
      " |-- features: vector (nullable = true)\n",
      " |-- Chance of Admit: double (nullable = true)\n",
      "\n"
     ]
    }
   ],
   "source": [
    "#print schema of final data\n",
    "final_data.printSchema()"
   ]
  },
  {
   "cell_type": "code",
   "execution_count": 40,
   "metadata": {
    "id": "vOJylIiS1Dre"
   },
   "outputs": [],
   "source": [
    "#split the dataset into training and testing set\n",
    "train_data, test_data = final_data.randomSplit([0.75,0.25],seed=0)"
   ]
  },
  {
   "cell_type": "code",
   "execution_count": 42,
   "metadata": {
    "id": "xoxFzm4A1Hee"
   },
   "outputs": [],
   "source": [
    "#build & train the model\n",
    "models= LinearRegression(featuresCol='features', labelCol='Chance of Admit')\n",
    "model = models.fit(train_data)"
   ]
  },
  {
   "cell_type": "code",
   "execution_count": 50,
   "metadata": {
    "id": "DDCZ9uvA1QLf"
   },
   "outputs": [
    {
     "name": "stdout",
     "output_type": "stream",
     "text": [
      "Coefficients: [0.002278442144001862,0.003703672661705527,0.14285516808888252]\n",
      "Intercept: -1.6212241463868469\n"
     ]
    }
   ],
   "source": [
    "#get coefficients & intercept\n",
    "print(f'Coefficients: {model.coefficients}')\n",
    "print(f'Intercept: {model.intercept}')"
   ]
  },
  {
   "cell_type": "code",
   "execution_count": 63,
   "metadata": {
    "id": "bO6Duj1l1YJX"
   },
   "outputs": [],
   "source": [
    "#get summary of the model\n",
    "summary = model.summary"
   ]
  },
  {
   "cell_type": "code",
   "execution_count": 65,
   "metadata": {
    "id": "ebi9LxFS1aBJ"
   },
   "outputs": [
    {
     "name": "stdout",
     "output_type": "stream",
     "text": [
      "RMSE: 0.06120160758156184\n",
      "R2: 0.8170367380343689\n"
     ]
    }
   ],
   "source": [
    "#print the rmse & r2 score\n",
    "print(f'RMSE: {summary.rootMeanSquaredError}')\n",
    "print(f'R2: {summary.r2}')"
   ]
  },
  {
   "cell_type": "markdown",
   "metadata": {
    "id": "b5lTskfK1eKV"
   },
   "source": [
    "### **6. Evaluate & Save the Model**"
   ]
  },
  {
   "cell_type": "code",
   "execution_count": 67,
   "metadata": {
    "id": "l0TAwvGP1noC"
   },
   "outputs": [],
   "source": [
    "#transform on the test data\n",
    "predictions = model.transform(test_data)"
   ]
  },
  {
   "cell_type": "code",
   "execution_count": 69,
   "metadata": {
    "id": "T_DixZ6f1nvP"
   },
   "outputs": [
    {
     "name": "stdout",
     "output_type": "stream",
     "text": [
      "+------------------+---------------+-------------------+\n",
      "|          features|Chance of Admit|         prediction|\n",
      "+------------------+---------------+-------------------+\n",
      "|[290.0,100.0,7.56]|           0.47| 0.4898764122961974|\n",
      "|[297.0,101.0,7.67]|           0.57| 0.5252432484556935|\n",
      "| [298.0,92.0,7.88]|           0.51| 0.5241882219430107|\n",
      "|[298.0,101.0,7.69]|           0.53| 0.5303787939614728|\n",
      "|[298.0,101.0,7.86]|           0.54| 0.5546641725365826|\n",
      "|[298.0,105.0,8.54]|           0.69| 0.6666203774838451|\n",
      "| [299.0,97.0,7.66]|           0.38| 0.5135568904159862|\n",
      "|[299.0,100.0,7.88]|           0.68| 0.5560960453806567|\n",
      "|[299.0,100.0,7.89]|           0.59| 0.5575245970615454|\n",
      "|[299.0,102.0,8.62]|           0.56| 0.6692162150898411|\n",
      "|  [300.0,97.0,8.1]|           0.65| 0.5786916065190959|\n",
      "|[300.0,102.0,7.87]|           0.56| 0.5643532811671812|\n",
      "|[300.0,102.0,8.17]|           0.63| 0.6072098315938459|\n",
      "| [301.0,96.0,7.56]|           0.54|  0.500124585233396|\n",
      "|[301.0,104.0,7.89]|           0.68| 0.5768961719963714|\n",
      "|[301.0,104.0,8.12]|           0.68| 0.6097528606568141|\n",
      "|[301.0,106.0,8.47]|           0.57| 0.6671595148113343|\n",
      "| [302.0,99.0,7.45]|           0.52|0.49779997687273747|\n",
      "| [303.0,98.0,7.65]|           0.56| 0.5249457799728101|\n",
      "| [303.0,99.0,7.66]|           0.36| 0.5300780043154045|\n",
      "+------------------+---------------+-------------------+\n",
      "only showing top 20 rows\n",
      "\n"
     ]
    }
   ],
   "source": [
    "#display the predictions\n",
    "predictions.show()"
   ]
  },
  {
   "cell_type": "code",
   "execution_count": 71,
   "metadata": {
    "id": "vzxDnudZ1n3n"
   },
   "outputs": [
    {
     "name": "stdout",
     "output_type": "stream",
     "text": [
      "r2 on the test data:  0.7588464671010928\n"
     ]
    }
   ],
   "source": [
    "#evaluate the model\n",
    "evaluator = RegressionEvaluator(predictionCol='prediction', labelCol='Chance of Admit' , metricName='r2')\n",
    "print('r2 on the test data: ', evaluator.evaluate(predictions))"
   ]
  },
  {
   "cell_type": "markdown",
   "metadata": {},
   "source": [
    "### **7. Conclusions**"
   ]
  },
  {
   "cell_type": "markdown",
   "metadata": {},
   "source": [
    "The model performs very good on training and slightly decrease on testing. Overall, we obtained good scores during our evaluation that indicates the good performance of our model predicting if a student will get admited or not to university. "
   ]
  }
 ],
 "metadata": {
  "colab": {
   "name": "Admission_prediction_with_pyspark_ml.ipynb",
   "provenance": []
  },
  "kernelspec": {
   "display_name": "Python 3 (ipykernel)",
   "language": "python",
   "name": "python3"
  },
  "language_info": {
   "codemirror_mode": {
    "name": "ipython",
    "version": 3
   },
   "file_extension": ".py",
   "mimetype": "text/x-python",
   "name": "python",
   "nbconvert_exporter": "python",
   "pygments_lexer": "ipython3",
   "version": "3.12.7"
  }
 },
 "nbformat": 4,
 "nbformat_minor": 4
}
